{
 "cells": [
  {
   "cell_type": "code",
   "execution_count": 41,
   "id": "7634d85f",
   "metadata": {},
   "outputs": [],
   "source": [
    "import requests"
   ]
  },
  {
   "cell_type": "code",
   "execution_count": 42,
   "id": "0d4313d1",
   "metadata": {},
   "outputs": [],
   "source": [
    "url = \"http://18.203.232.58:8000/api/web-traffic/\"\n",
    "r = requests.get(url)"
   ]
  },
  {
   "cell_type": "code",
   "execution_count": 43,
   "id": "4d49fd7b",
   "metadata": {},
   "outputs": [
    {
     "name": "stdout",
     "output_type": "stream",
     "text": [
      "Status Code: 200\n"
     ]
    }
   ],
   "source": [
    "print(\"Status Code:\", r.status_code)"
   ]
  },
  {
   "cell_type": "code",
   "execution_count": 44,
   "id": "ddbcdc66",
   "metadata": {},
   "outputs": [
    {
     "name": "stdout",
     "output_type": "stream",
     "text": [
      "Response Body: {\"session_id\": \"101ac20c-26da-4001-8708-9c19b9c5a566\", \"user_id\": 5089, \"page\": \"explore/tags/categories\", \"device_type\": \"Desktop\", \"browser\": \"Edge\", \"event_type\": \"Click\", \"timestamp\": 1746269854.2904353}\n"
     ]
    }
   ],
   "source": [
    "print(\"Response Body:\", r.text)"
   ]
  },
  {
   "cell_type": "code",
   "execution_count": 12,
   "id": "6a5b8706",
   "metadata": {},
   "outputs": [],
   "source": [
    "from pyspark.sql import SparkSession\n",
    "from pyspark.sql.functions import from_unixtime,col"
   ]
  },
  {
   "cell_type": "code",
   "execution_count": 2,
   "id": "62f8c020",
   "metadata": {},
   "outputs": [],
   "source": [
    "spark = SparkSession.builder.appName(\"WebTraffic\").getOrCreate()"
   ]
  },
  {
   "cell_type": "code",
   "execution_count": 9,
   "id": "19509220",
   "metadata": {},
   "outputs": [],
   "source": [
    "from pyspark.sql.functions import lit\n",
    "date = from_unixtime(lit(1746432371.8444808))\n",
    "date= date.cast(\"timestamp\")"
   ]
  },
  {
   "cell_type": "code",
   "execution_count": 7,
   "id": "9dcce78d",
   "metadata": {},
   "outputs": [],
   "source": [
    "df = spark.read.parquet(\"kpi-outputs/parquet.parquet\")"
   ]
  },
  {
   "cell_type": "code",
   "execution_count": 8,
   "id": "21234672",
   "metadata": {},
   "outputs": [
    {
     "name": "stdout",
     "output_type": "stream",
     "text": [
      "+-------------------------+--------------------+-------------------+-----------------------------+----------+\n",
      "|customer_engagement_score|avg_session_duration|bounce_rate_percent|loyalty_activity_rate_percent|  kpi_date|\n",
      "+-------------------------+--------------------+-------------------+-----------------------------+----------+\n",
      "|       3.0060790273556233|                 0.0|              100.0|            32.50243190661479|2025-05-05|\n",
      "+-------------------------+--------------------+-------------------+-----------------------------+----------+\n",
      "\n"
     ]
    }
   ],
   "source": [
    "df.show(5)"
   ]
  },
  {
   "cell_type": "code",
   "execution_count": 9,
   "id": "d7655782",
   "metadata": {},
   "outputs": [],
   "source": [
    "df2 = spark.read.parquet(\"kpi-outputs/part.parquet\")"
   ]
  },
  {
   "cell_type": "code",
   "execution_count": 10,
   "id": "8887d873",
   "metadata": {},
   "outputs": [
    {
     "name": "stdout",
     "output_type": "stream",
     "text": [
      "+-------------------------+--------------------+-------------------+-----------------------------+-------------------+\n",
      "|customer_engagement_score|avg_session_duration|bounce_rate_percent|loyalty_activity_rate_percent|           kpi_date|\n",
      "+-------------------------+--------------------+-------------------+-----------------------------+-------------------+\n",
      "|        3.001433544951874|                 0.0|              100.0|            32.29777931193188|2025-05-05 11:26:35|\n",
      "+-------------------------+--------------------+-------------------+-----------------------------+-------------------+\n",
      "\n"
     ]
    }
   ],
   "source": [
    "df2.show()"
   ]
  },
  {
   "cell_type": "code",
   "execution_count": 15,
   "id": "59e4c5be",
   "metadata": {},
   "outputs": [],
   "source": [
    "df3 = spark.read.parquet(\"kpi-outputs/customer-support.parquet\")"
   ]
  },
  {
   "cell_type": "code",
   "execution_count": 16,
   "id": "8821f8c7",
   "metadata": {},
   "outputs": [
    {
     "name": "stdout",
     "output_type": "stream",
     "text": [
      "+------------------+--------------------+------------------+--------------------+\n",
      "|    feedback_score|  interaction_volume|time_to_resolution|           timestamp|\n",
      "+------------------+--------------------+------------------+--------------------+\n",
      "|2.9866504854368934|{\"Loyalty\": 2807,...|3657.4018653690187|2025-05-05T11:52:...|\n",
      "+------------------+--------------------+------------------+--------------------+\n",
      "\n"
     ]
    }
   ],
   "source": [
    "df3.show()"
   ]
  },
  {
   "cell_type": "code",
   "execution_count": null,
   "id": "3846804a",
   "metadata": {},
   "outputs": [],
   "source": [
    "df3.lit()"
   ]
  }
 ],
 "metadata": {
  "kernelspec": {
   "display_name": "pyspark",
   "language": "python",
   "name": "python3"
  },
  "language_info": {
   "codemirror_mode": {
    "name": "ipython",
    "version": 3
   },
   "file_extension": ".py",
   "mimetype": "text/x-python",
   "name": "python",
   "nbconvert_exporter": "python",
   "pygments_lexer": "ipython3",
   "version": "3.13.0"
  }
 },
 "nbformat": 4,
 "nbformat_minor": 5
}
