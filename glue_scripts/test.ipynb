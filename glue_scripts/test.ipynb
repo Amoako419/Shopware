{
 "cells": [
  {
   "cell_type": "code",
   "execution_count": 41,
   "id": "7634d85f",
   "metadata": {},
   "outputs": [],
   "source": [
    "import requests"
   ]
  },
  {
   "cell_type": "code",
   "execution_count": 42,
   "id": "0d4313d1",
   "metadata": {},
   "outputs": [],
   "source": [
    "url = \"http://18.203.232.58:8000/api/web-traffic/\"\n",
    "r = requests.get(url)"
   ]
  },
  {
   "cell_type": "code",
   "execution_count": 43,
   "id": "4d49fd7b",
   "metadata": {},
   "outputs": [
    {
     "name": "stdout",
     "output_type": "stream",
     "text": [
      "Status Code: 200\n"
     ]
    }
   ],
   "source": [
    "print(\"Status Code:\", r.status_code)"
   ]
  },
  {
   "cell_type": "code",
   "execution_count": 44,
   "id": "ddbcdc66",
   "metadata": {},
   "outputs": [
    {
     "name": "stdout",
     "output_type": "stream",
     "text": [
      "Response Body: {\"session_id\": \"101ac20c-26da-4001-8708-9c19b9c5a566\", \"user_id\": 5089, \"page\": \"explore/tags/categories\", \"device_type\": \"Desktop\", \"browser\": \"Edge\", \"event_type\": \"Click\", \"timestamp\": 1746269854.2904353}\n"
     ]
    }
   ],
   "source": [
    "print(\"Response Body:\", r.text)"
   ]
  }
 ],
 "metadata": {
  "kernelspec": {
   "display_name": "base",
   "language": "python",
   "name": "python3"
  },
  "language_info": {
   "codemirror_mode": {
    "name": "ipython",
    "version": 3
   },
   "file_extension": ".py",
   "mimetype": "text/x-python",
   "name": "python",
   "nbconvert_exporter": "python",
   "pygments_lexer": "ipython3",
   "version": "3.12.4"
  }
 },
 "nbformat": 4,
 "nbformat_minor": 5
}
